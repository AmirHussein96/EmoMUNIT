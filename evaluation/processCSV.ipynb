{
 "cells": [
  {
   "cell_type": "code",
   "execution_count": 8,
   "metadata": {},
   "outputs": [],
   "source": [
    "import numpy as np\n",
    "import pandas as pd\n",
    "from collections import defaultdict, Counter"
   ]
  },
  {
   "cell_type": "code",
   "execution_count": 7,
   "metadata": {},
   "outputs": [
    {
     "name": "stdout",
     "output_type": "stream",
     "text": [
      "                    0                           1\n",
      "0               0.wav                       Angry\n",
      "1               0.wav                       Angry\n",
      "2               0.wav                       Angry\n",
      "3               0.wav                     Neutral\n",
      "4               0.wav                     Neutral\n",
      "5               0.wav                       Happy\n",
      "6               0.wav                       Angry\n",
      "7               0.wav                     Neutral\n",
      "8               0.wav                     Neutral\n",
      "9               0.wav                       Happy\n",
      "10              1.wav                       Angry\n",
      "11              1.wav                     Neutral\n",
      "12              1.wav                     Neutral\n",
      "13              1.wav                       Angry\n",
      "14              1.wav                       Angry\n",
      "15              1.wav                       Angry\n",
      "16              1.wav                       Angry\n",
      "17              1.wav                       Angry\n",
      "18              1.wav                     Neutral\n",
      "19              1.wav                       Angry\n",
      "20             10.wav                       Happy\n",
      "21             10.wav                     Neutral\n",
      "22             10.wav                     Neutral\n",
      "23             10.wav                       Happy\n",
      "24             10.wav                     Neutral\n",
      "25             10.wav                     Neutral\n",
      "26             10.wav                       Angry\n",
      "27             10.wav                       Happy\n",
      "28             10.wav                     Neutral\n",
      "29             10.wav                       Happy\n",
      "...               ...                         ...\n",
      "3211           97.wav                       Happy\n",
      "3212           97.wav                     Neutral\n",
      "3213           97.wav                       Happy\n",
      "3214           97.wav                     Neutral\n",
      "3215           97.wav                     Neutral\n",
      "3216           97.wav                     Neutral\n",
      "3217           97.wav                     Neutral\n",
      "3218           97.wav                       Happy\n",
      "3219           97.wav                     Neutral\n",
      "3220           98.wav                     Neutral\n",
      "3221           98.wav                       Happy\n",
      "3222           98.wav                       Happy\n",
      "3223           98.wav                     Neutral\n",
      "3224           98.wav                     Neutral\n",
      "3225           98.wav                     Neutral\n",
      "3226           98.wav                     Neutral\n",
      "3227           98.wav                       Happy\n",
      "3228           98.wav                     Neutral\n",
      "3229           98.wav                     Neutral\n",
      "3230           99.wav                       Happy\n",
      "3231           99.wav                     Neutral\n",
      "3232           99.wav                     Neutral\n",
      "3233           99.wav                     Neutral\n",
      "3234           99.wav                       Happy\n",
      "3235           99.wav                       Happy\n",
      "3236           99.wav                     Neutral\n",
      "3237           99.wav                     Neutral\n",
      "3238           99.wav                     Neutral\n",
      "3239           99.wav                     Neutral\n",
      "3240  Input.audio_url  Answer.audio-emotion.label\n",
      "\n",
      "[3241 rows x 2 columns]\n"
     ]
    }
   ],
   "source": [
    "df = pd.read_csv(\"f0/Batch_3582121_batch_results.csv\", header=None)\n",
    "print(df)"
   ]
  },
  {
   "cell_type": "code",
   "execution_count": 114,
   "metadata": {},
   "outputs": [],
   "source": [
    "data = defaultdict(list)\n",
    "for i in range(len(df)):\n",
    "    idx, emotion = df[0][i].split('.')[0], df[1][i]\n",
    "    if idx.isdigit():\n",
    "        data[idx].append(emotion)"
   ]
  },
  {
   "cell_type": "code",
   "execution_count": 116,
   "metadata": {},
   "outputs": [],
   "source": [
    "r = ['ang2hap','ang2neu','ang2sad','hap2ang','hap2neu','hap2sad','neu2ang','neu2hap','neu2sad','sad2ang','sad2hap','sad2neu']\n",
    "d = {'Angry':0, 'Happy':1, 'Neutral':2, 'Sad':3}\n",
    "res = {}\n",
    "for c in r: res[c] = [0]*4"
   ]
  },
  {
   "cell_type": "code",
   "execution_count": 115,
   "metadata": {},
   "outputs": [],
   "source": [
    "# Majority vote\n",
    "# for key in data:\n",
    "#     data[key] = Counter(data[key]).most_common(1)[0][0]"
   ]
  },
  {
   "cell_type": "code",
   "execution_count": 117,
   "metadata": {},
   "outputs": [],
   "source": [
    "# Majority vote\n",
    "# for k in data:\n",
    "#     if 38 <= int(k) <= 56:\n",
    "#         res['ang2hap'][d[data[k]]] += 1\n",
    "#     if 0 <= int(k) <= 18:\n",
    "#         res['ang2neu'][d[data[k]]] += 1\n",
    "#     if 19 <= int(k) <= 37:\n",
    "#         res['ang2sad'][d[data[k]]] += 1\n",
    "#     if 64 <= int(k) <= 95:\n",
    "#         res['hap2ang'][d[data[k]]] += 1\n",
    "#     if 96 <= int(k) <= 127:\n",
    "#         res['hap2neu'][d[data[k]]] += 1\n",
    "#     if 128 <= int(k) <= 159:\n",
    "#         res['hap2sad'][d[data[k]]] += 1\n",
    "#     if 1000 <= int(k) <= 1042:\n",
    "#         res['neu2ang'][d[data[k]]] += 1\n",
    "#     if 6100 <= int(k) <= 6142:\n",
    "#         res['neu2hap'][d[data[k]]] += 1\n",
    "#     if 243 <= int(k) <= 285:\n",
    "#         res['neu2sad'][d[data[k]]] += 1\n",
    "#     if 314 <= int(k) <= 327:\n",
    "#         res['sad2ang'][d[data[k]]] += 1\n",
    "#     if 414 <= int(k) <= 427:\n",
    "#         res['sad2hap'][d[data[k]]] += 1\n",
    "#     if 514 <= int(k) <= 527:\n",
    "#         res['sad2neu'][d[data[k]]] += 1"
   ]
  },
  {
   "cell_type": "code",
   "execution_count": 118,
   "metadata": {},
   "outputs": [],
   "source": [
    "for k in data:\n",
    "    if 38 <= int(k) <= 56:\n",
    "        for i in range(4): res['ang2hap'][d[data[k][i]]] += 1\n",
    "    if 0 <= int(k) <= 18:\n",
    "        for i in range(4): res['ang2neu'][d[data[k][i]]] += 1\n",
    "    if 19 <= int(k) <= 37:\n",
    "        for i in range(4): res['ang2sad'][d[data[k][i]]] += 1\n",
    "    if 64 <= int(k) <= 95:\n",
    "        for i in range(4): res['hap2ang'][d[data[k][i]]] += 1\n",
    "    if 96 <= int(k) <= 127:\n",
    "        for i in range(4): res['hap2neu'][d[data[k][i]]] += 1\n",
    "    if 128 <= int(k) <= 159:\n",
    "        for i in range(4): res['hap2sad'][d[data[k][i]]] += 1\n",
    "    if 1000 <= int(k) <= 1042:\n",
    "        for i in range(4): res['neu2ang'][d[data[k][i]]] += 1\n",
    "    if 6100 <= int(k) <= 6142:\n",
    "        for i in range(4): res['neu2hap'][d[data[k][i]]] += 1\n",
    "    if 243 <= int(k) <= 285:\n",
    "        for i in range(4): res['neu2sad'][d[data[k][i]]] += 1\n",
    "    if 314 <= int(k) <= 327:\n",
    "        for i in range(4): res['sad2ang'][d[data[k][i]]] += 1\n",
    "    if 414 <= int(k) <= 427:\n",
    "        for i in range(4): res['sad2hap'][d[data[k][i]]] += 1\n",
    "    if 514 <= int(k) <= 527:\n",
    "        for i in range(4): res['sad2neu'][d[data[k][i]]] += 1"
   ]
  },
  {
   "cell_type": "code",
   "execution_count": 119,
   "metadata": {},
   "outputs": [],
   "source": [
    "# count to percentage\n",
    "for k in res:\n",
    "    total = float(sum(res[k]))\n",
    "    for i in range(4):\n",
    "        res[k][i] = int(res[k][i] / total * 1000)/10"
   ]
  },
  {
   "cell_type": "code",
   "execution_count": 120,
   "metadata": {},
   "outputs": [
    {
     "data": {
      "text/plain": [
       "{'ang2hap': [52.6, 21.0, 26.3, 0.0],\n",
       " 'ang2neu': [42.1, 22.3, 32.8, 2.6],\n",
       " 'ang2sad': [30.2, 15.7, 46.0, 7.8],\n",
       " 'hap2ang': [10.1, 29.6, 53.9, 6.2],\n",
       " 'hap2neu': [7.0, 50.0, 38.2, 4.6],\n",
       " 'hap2sad': [4.6, 45.3, 42.1, 7.8],\n",
       " 'neu2ang': [6.9, 23.8, 59.3, 9.8],\n",
       " 'neu2hap': [9.3, 18.0, 56.3, 16.2],\n",
       " 'neu2sad': [2.3, 18.6, 64.5, 14.5],\n",
       " 'sad2ang': [16.0, 16.0, 42.8, 25.0],\n",
       " 'sad2hap': [10.7, 17.8, 44.6, 26.7],\n",
       " 'sad2neu': [26.7, 19.6, 26.7, 26.7]}"
      ]
     },
     "execution_count": 120,
     "metadata": {},
     "output_type": "execute_result"
    }
   ],
   "source": [
    "res"
   ]
  },
  {
   "cell_type": "code",
   "execution_count": null,
   "metadata": {},
   "outputs": [],
   "source": []
  }
 ],
 "metadata": {
  "kernelspec": {
   "display_name": "Python 3",
   "language": "python",
   "name": "python3"
  },
  "language_info": {
   "codemirror_mode": {
    "name": "ipython",
    "version": 3
   },
   "file_extension": ".py",
   "mimetype": "text/x-python",
   "name": "python",
   "nbconvert_exporter": "python",
   "pygments_lexer": "ipython3",
   "version": "3.6.2"
  }
 },
 "nbformat": 4,
 "nbformat_minor": 2
}
